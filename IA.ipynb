{
  "cells": [
    {
      "cell_type": "markdown",
      "metadata": {
        "id": "YAnNh4aXKWRg"
      },
      "source": [
        "#I.A. Notebook\n",
        "\n",
        "---\n"
      ]
    },
    {
      "cell_type": "code",
      "execution_count": 31,
      "metadata": {
        "id": "r9VFfH_1KdOd"
      },
      "outputs": [],
      "source": [
        "import numpy as np\n",
        "import scipy as sc\n",
        "import matplotlib.pyplot as plt\n",
        "\n",
        "from sklearn.datasets import make_circles"
      ]
    },
    {
      "cell_type": "code",
      "execution_count": 32,
      "metadata": {
        "colab": {
          "base_uri": "https://localhost:8080/",
          "height": 284
        },
        "id": "FX10d6pWqb85",
        "outputId": "1c5db5f5-19aa-4061-ea7f-de663e1e477f"
      },
      "outputs": [
        {
          "data": {
            "text/plain": [
              "<function matplotlib.pyplot.show>"
            ]
          },
          "execution_count": 32,
          "metadata": {
            "tags": []
          },
          "output_type": "execute_result"
        },
        {
          "data": {
            "image/png": "[encoded data removed]",
            "text/plain": [
              "<Figure size 432x288 with 1 Axes>"
            ]
          },
          "metadata": {
            "needs_background": "light",
            "tags": []
          },
          "output_type": "display_data"
        }
      ],
      "source": [
        "# capa de entrada\n",
        "n = 500\n",
        "p = 2\n",
        "\n",
        "# ## Dataset\n",
        "# X = []\n",
        "# Y = []\n",
        "# def fahrenheit(x):\n",
        "#   return (x+9/5)+32\n",
        "\n",
        "# for i in range(-500,500):\n",
        "#   if i % 25 == 0:\n",
        "#     X.append(i)\n",
        "#     Y.append(fahrenheit(i))\n",
        "\n",
        "# X = np.asarray(X)\n",
        "# Y = np.asarray(Y)\n",
        "\n",
        "# X.reshape(1,40)\n",
        "# Y.reshape(1,40)\n",
        "\n",
        "# X.reshape(40,1)\n",
        "# X = X[: , np.newaxis]\n",
        "# Y = Y[: , np.newaxis]\n",
        "\n",
        "# print(X,Y)\n",
        "\n",
        "\n",
        "X, Y = make_circles(n_samples=n,factor=0.5,noise=0.05)\n",
        "Y = Y[:,np.newaxis]\n",
        "\n",
        "plt.scatter(X[Y[:,0] == 0,0],X[Y[:,0] == 0,1],c='blue')\n",
        "plt.scatter(X[Y[:,0] == 1,0],X[Y[:,0] == 1,1],c='red')\n",
        "plt.axis('equal')\n",
        "plt.show"
      ]
    },
    {
      "cell_type": "markdown",
      "metadata": {
        "id": "lG04eKmaKwmH"
      },
      "source": [
        "## Struct of Neural Layer"
      ]
    },
    {
      "cell_type": "code",
      "execution_count": 4,
      "metadata": {
        "id": "Jg5EnltTK_3c"
      },
      "outputs": [],
      "source": [
        "class neural_layer():\n",
        "  def __init__(self,n_connect, n_neuron, f_act):\n",
        "    self.f_act = f_act\n",
        "\n",
        "    self.b = np.random.rand(1,n_neuron) * 2 - 1\n",
        "    self.W = np.random.rand(n_connect, n_neuron) * 2 - 1"
      ]
    },
    {
      "cell_type": "markdown",
      "metadata": {
        "id": "k5HSRnlGNb4q"
      },
      "source": [
        "## Funcion de activacion:\n",
        "\n",
        "$$ Sigmoide:  f(x) = \\frac{1}{1 + e^{-x}}  $$\n",
        "$$ \\frac{d}{dx} : f'(x) = x * (1 - x)$$"
      ]
    },
    {
      "cell_type": "code",
      "execution_count": 5,
      "metadata": {
        "id": "TIRz_XdAMlfp"
      },
      "outputs": [],
      "source": [
        "f_act = (lambda x: 1 / (1 + np.e ** (-x)),\n",
        "         lambda x: x * (1 - x))"
      ]
    },
    {
      "cell_type": "markdown",
      "metadata": {
        "id": "wGuyUEnRzZ4_"
      },
      "source": [
        "## Funcion de coste:\n",
        "$$Error~cuadratico~medio:$$\n",
        "$$\\frac{1}{n}\\sum^{n}_{i=1}{(X_i-Y_i)}^{2}$$"
      ]
    },
    {
      "cell_type": "code",
      "execution_count": 6,
      "metadata": {
        "id": "06g9CmnizZT4"
      },
      "outputs": [],
      "source": [
        "f_cost = (lambda x, y: np.mean((x-y)**2),\n",
        "          lambda x, y: (x-y))"
      ]
    },
    {
      "cell_type": "markdown",
      "metadata": {
        "id": "bcMO3dTpzaoh"
      },
      "source": [
        "## Creacion de red neuronal"
      ]
    },
    {
      "cell_type": "code",
      "execution_count": 7,
      "metadata": {
        "id": "tV6qO2fbPON6"
      },
      "outputs": [],
      "source": [
        "def create_net(Topology, f_act):\n",
        "  neural_net = []\n",
        "  for l, layer in enumerate(Topology[:-1]):\n",
        "    neural_net.append(neural_layer(Topology[l],Topology[l+1],f_act))\n",
        "  return neural_net\n",
        "\n",
        "Topology = [p, 2, 4, 4, 1]"
      ]
    },
    {
      "cell_type": "markdown",
      "metadata": {
        "id": "LFd4neBTsmtw"
      },
      "source": [
        "## Entrenamiento de la red neuronal"
      ]
    },
    {
      "cell_type": "code",
      "execution_count": 17,
      "metadata": {
        "colab": {
          "base_uri": "https://localhost:8080/"
        },
        "id": "mKu0VwKUzGG3",
        "outputId": "95484f19-115e-401b-9f2d-dba03e28760e"
      },
      "outputs": [
        {
          "name": "stdout",
          "output_type": "stream",
          "text": [
            "0.2500059233164644\n"
          ]
        }
      ],
      "source": [
        "# f_act =  (lambda x: x,\n",
        "#           lambda x: 1)\n",
        "\n",
        "neural_net = create_net(Topology, f_act)\n",
        "\n",
        "def train(neural_net, X, Y, f_cost, lr=0.1, train=True):\n",
        "  # Forward pass\n",
        "  out = [(None,X)];\n",
        "  for l,layer in enumerate(neural_net):\n",
        "    SP = out[-1][1] @ neural_net[l].W + neural_net[l].b # Suma ponderada\n",
        "    f_SP = neural_net[l].f_act[0](SP)           # Suma ponderada despues de funcion de activacion\n",
        "    out.append((SP,f_SP))\n",
        "\n",
        "  if train:\n",
        "    # backward pass\n",
        "    deltas = []\n",
        "    for l in reversed(range(0, len(neural_net))):\n",
        "      SP = out[l+1][0]\n",
        "      f_SP = out[l+1][1]\n",
        "      if l == len(neural_net) - 1:\n",
        "        # calcular delta de la ultima capa\n",
        "        deltas.insert(0, f_cost[1](f_SP,Y) * neural_net[l].f_act[1](f_SP) )\n",
        "      else:\n",
        "        # calcualar deltas de las demas capas\n",
        "        deltas.insert(0, deltas[0] @ _W.T * neural_net[l].f_act[1](f_SP) )\n",
        "      \n",
        "      _W = neural_net[l].W\n",
        "      \n",
        "      # gredient descent\n",
        "      neural_net[l].b = neural_net[l].b - np.mean(deltas[0], axis=0, keepdims=True) * lr\n",
        "      # print(\"aqu\",out[l][1].T @ deltas[0] *0.0001)\n",
        "      neural_net[l].W = neural_net[l].W - out[l][1].T @ deltas[0] * lr\n",
        "\n",
        "  return out[-1][1]\n",
        "\n",
        "for i in range(1000):\n",
        "  # print(neural_net[0].W, neural_net[0].b)\n",
        "  predict = train(neural_net,X,Y ,f_cost,0.001,True)\n",
        "\n",
        "print(f_cost[0](predict,Y)) \n",
        "\n",
        "# train(neural_net,X,Y ,f_cost,0.01,True)\n"
      ]
    },
    {
      "cell_type": "code",
      "execution_count": 10,
      "metadata": {
        "colab": {
          "base_uri": "https://localhost:8080/",
          "height": 217
        },
        "id": "YqogZ-wARsL7",
        "outputId": "c8625194-71de-4bf5-a9de-04ec3b80d348"
      },
      "outputs": [
        {
          "ename": "NameError",
          "evalue": "ignored",
          "output_type": "error",
          "traceback": [
            "\u001b[0;31m---------------------------------------------------------------------------\u001b[0m",
            "\u001b[0;31mNameError\u001b[0m                                 Traceback (most recent call last)",
            "\u001b[0;32m<ipython-input-10-84afdb096026>\u001b[0m in \u001b[0;36m<module>\u001b[0;34m()\u001b[0m\n\u001b[0;32m----> 1\u001b[0;31m \u001b[0mfahr\u001b[0m \u001b[0;34m=\u001b[0m \u001b[0mtrain\u001b[0m\u001b[0;34m(\u001b[0m\u001b[0mneural_net\u001b[0m\u001b[0;34m,\u001b[0m\u001b[0;34m[\u001b[0m\u001b[0;34m[\u001b[0m\u001b[0;36m15\u001b[0m\u001b[0;34m]\u001b[0m\u001b[0;34m]\u001b[0m\u001b[0;34m,\u001b[0m\u001b[0;34m[\u001b[0m\u001b[0;34m[\u001b[0m\u001b[0mfahrenheit\u001b[0m\u001b[0;34m(\u001b[0m\u001b[0;36m15\u001b[0m\u001b[0;34m)\u001b[0m\u001b[0;34m]\u001b[0m\u001b[0;34m]\u001b[0m\u001b[0;34m,\u001b[0m\u001b[0mf_cost\u001b[0m\u001b[0;34m,\u001b[0m\u001b[0mtrain\u001b[0m\u001b[0;34m=\u001b[0m\u001b[0;32mFalse\u001b[0m\u001b[0;34m)\u001b[0m\u001b[0;34m\u001b[0m\u001b[0;34m\u001b[0m\u001b[0m\n\u001b[0m\u001b[1;32m      2\u001b[0m \u001b[0mprint\u001b[0m\u001b[0;34m(\u001b[0m\u001b[0mfahr\u001b[0m\u001b[0;34m)\u001b[0m\u001b[0;34m\u001b[0m\u001b[0;34m\u001b[0m\u001b[0m\n\u001b[1;32m      3\u001b[0m \u001b[0mfahrenheit\u001b[0m\u001b[0;34m(\u001b[0m\u001b[0;36m15\u001b[0m\u001b[0;34m)\u001b[0m\u001b[0;34m\u001b[0m\u001b[0;34m\u001b[0m\u001b[0m\n",
            "\u001b[0;31mNameError\u001b[0m: name 'fahrenheit' is not defined"
          ]
        }
      ],
      "source": [
        "fahr = train(neural_net,[[15]],[[fahrenheit(15)]],f_cost,train=False)\n",
        "print(fahr)\n",
        "fahrenheit(15)"
      ]
    },
    {
      "cell_type": "code",
      "execution_count": 11,
      "metadata": {
        "colab": {
          "base_uri": "https://localhost:8080/"
        },
        "id": "zpHyodS5kFqd",
        "outputId": "1e3c1e41-d288-41fa-dbf7-cc5a67c69d7b"
      },
      "outputs": [
        {
          "name": "stdout",
          "output_type": "stream",
          "text": [
            "[[-0.75368102 -0.84997795]\n",
            " [-0.18104927  0.11087038]] [[ 0.2123764  -0.17591693  0.17610296  0.59655687]\n",
            " [-0.36849286  0.28870847 -0.19504541  0.04949934]]\n",
            "ballas [[-0.11195058  0.20670943]] [[-0.14508803  0.52837956  0.31496974  0.60446159]]\n"
          ]
        }
      ],
      "source": [
        "print(neural_net[0].W,neural_net[1].W)\n",
        "print(\"ballas\",neural_net[0].b,neural_net[1].b)"
      ]
    },
    {
      "cell_type": "code",
      "execution_count": 30,
      "metadata": {
        "colab": {
          "base_uri": "https://localhost:8080/",
          "height": 649
        },
        "id": "8kKQ5gQO5c4I",
        "outputId": "a5db758c-1e9f-4762-c03f-e2577417b20b"
      },
      "outputs": [
        {
          "data": {
            "image/png": "[encoded data removed]",
            "text/plain": [
              "<Figure size 432x288 with 1 Axes>"
            ]
          },
          "metadata": {
            "needs_background": "light",
            "tags": []
          },
          "output_type": "display_data"
        },
        {
          "data": {
            "image/png": "[encoded data removed]",
            "text/plain": [
              "<Figure size 432x288 with 1 Axes>"
            ]
          },
          "metadata": {
            "needs_background": "light",
            "tags": []
          },
          "output_type": "display_data"
        },
        {
          "name": "stdout",
          "output_type": "stream",
          "text": [
            "[[0.14305535 0.14305535 0.14305535 ... 0.14305535 0.14305535 0.14305535]\n",
            " [0.14305535 0.14305535 0.14305535 ... 0.14305535 0.14305535 0.14305535]\n",
            " [0.14305535 0.14305535 0.14305535 ... 0.14305535 0.14305535 0.14305535]\n",
            " ...\n",
            " [0.14305535 0.14305535 0.14305535 ... 0.14305535 0.14305535 0.14305535]\n",
            " [0.14305535 0.14305535 0.14305535 ... 0.14305535 0.14305535 0.14305535]\n",
            " [0.14305535 0.14305535 0.14305535 ... 0.14305535 0.14305535 0.14305535]]\n"
          ]
        }
      ],
      "source": [
        "import time\n",
        "from IPython.display import clear_output\n",
        "\n",
        "neural_net = create_net(Topology, f_act)\n",
        "\n",
        "loss = []\n",
        "for i in range(1):\n",
        "  pY = train(neural_net, X,Y,f_cost)\n",
        "  if i % 25 == 0:\n",
        "    loss.append(f_cost[0](pY,Y))\n",
        "    res = 50\n",
        "\n",
        "    _x0 = np.linspace(-1.5,1.5,res)\n",
        "    _x1 = np.linspace(-1.5,1.5,res)\n",
        "    _Y = np.zeros((res,res))\n",
        "    for i0,x0 in enumerate(_x0):\n",
        "      for i1,x1 in enumerate(_x1):\n",
        "        _Y[i0,i1] = train(neural_net,np.array([[x0,x1]]),Y,f_cost,train=False)[0][0]\n",
        "\n",
        "    plt.pcolormesh(_x0,_x1,_Y,cmap=\"coolwarm\")\n",
        "    \n",
        "    plt.axis(\"equal\")\n",
        "   \n",
        "    plt.scatter(X[Y[:,0] == 0,0],X[Y[:,0] == 0,1],c=\"blue\")\n",
        "    plt.scatter(X[Y[:,0] == 1,0],X[Y[:,0] == 1,1],c=\"red\")\n",
        "\n",
        "    clear_output(wait=True)\n",
        "    plt.show()\n",
        "    plt.plot(range(len(loss)),loss)\n",
        "    plt.show()\n",
        "    time.sleep(0.5)\n",
        "    print(_Y)"
      ]
    }
  ],
  "metadata": {
    "colab": {
      "name": "IA.ipynb",
      "provenance": []
    },
    "kernelspec": {
      "display_name": "Python 3",
      "name": "python3"
    },
    "language_info": {
      "name": "python"
    }
  },
  "nbformat": 4,
  "nbformat_minor": 0
}
